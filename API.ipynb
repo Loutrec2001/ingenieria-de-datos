{
 "cells": [
  {
   "cell_type": "code",
   "execution_count": null,
   "metadata": {},
   "outputs": [],
   "source": [
    "from flask import Flask, jsonify\n",
    "import os\n",
    "import json\n",
    "\n",
    "app = Flask(__name__)\n",
    "\n",
    "@app.route('/api/cantidad_empleados_por_cargo', methods=['GET'])\n",
    "def cantidad_empleados_por_cargo():\n",
    "    with open('/Users/edwardguzman/Desktop/Prueba Técnica Global MVM/Resultados/Cantidad de empleados por cargo.json') as f:\n",
    "        data = json.load(f)\n",
    "    return jsonify(data)\n",
    "\n",
    "@app.route('/api/cargos_por_departamento', methods=['GET'])\n",
    "def cargos_por_departamento():\n",
    "    with open('/Users/edwardguzman/Desktop/Prueba Técnica Global MVM/Resultados/Cargos por Departamento.json') as f:\n",
    "        data = json.load(f)\n",
    "    return jsonify(data)\n",
    "\n",
    "@app.route('/api/promedio_salario_por_departamento', methods=['GET'])\n",
    "def promedio_salario_por_departamento():\n",
    "    with open('/Users/edwardguzman/Desktop/Prueba Técnica Global MVM/Resultados/Promedio de salario por departamento.json') as f:\n",
    "        data = json.load(f)\n",
    "    return jsonify(data)\n",
    "\n",
    "@app.route('/api/top3_cargos_por_departamento', methods=['GET'])\n",
    "def top3_cargos_por_departamento():\n",
    "    with open('/Users/edwardguzman/Desktop/Prueba Técnica Global MVM/Resultados/Top 3 Cargos por Departamento.json') as f:\n",
    "        data = json.load(f)\n",
    "    return jsonify(data)\n",
    "\n",
    "@app.route('/api/top3_cargos_empresa', methods=['GET'])\n",
    "def top3_cargos_empresa():\n",
    "    with open('/Users/edwardguzman/Desktop/Prueba Técnica Global MVM/Resultados/Top 3 de Cargos de la empresa.json') as f:\n",
    "        data = json.load(f)\n",
    "    return jsonify(data)\n",
    "\n",
    "@app.route('/api/top3_salarios_por_departamento', methods=['GET'])\n",
    "def top3_salarios_por_departamento():\n",
    "    with open('/Users/edwardguzman/Desktop/Prueba Técnica Global MVM/Resultados/TOP 3 salarios por departamento.json') as f:\n",
    "        data = json.load(f)\n",
    "    return jsonify(data)\n",
    "\n",
    "if __name__ == '__main__':\n",
    "    app.run(debug=True)\n"
   ]
  }
 ],
 "metadata": {
  "language_info": {
   "name": "python"
  },
  "orig_nbformat": 4
 },
 "nbformat": 4,
 "nbformat_minor": 2
}
