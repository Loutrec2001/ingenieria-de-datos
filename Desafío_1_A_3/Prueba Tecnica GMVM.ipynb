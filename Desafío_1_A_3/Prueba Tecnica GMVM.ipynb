{
 "cells": [
  {
   "cell_type": "code",
   "execution_count": null,
   "metadata": {
    "application/vnd.databricks.v1+cell": {
     "cellMetadata": {
      "byteLimit": 2048000,
      "rowLimit": 10000
     },
     "inputWidgets": {},
     "nuid": "9c6f9596-f506-409c-833a-6cb48d1b13b1",
     "showTitle": false,
     "title": ""
    }
   },
   "outputs": [
    {
     "data": {
      "application/vnd.databricks.v1+bamboolib_hint": "{\"pd.DataFrames\": [], \"version\": \"0.0.1\"}",
      "text/plain": []
     },
     "metadata": {},
     "output_type": "display_data"
    }
   ],
   "source": [
    "import random\n",
    "from faker import Faker\n",
    "import pandas as pd\n",
    "import uuid"
   ]
  },
  {
   "cell_type": "markdown",
   "metadata": {
    "application/vnd.databricks.v1+cell": {
     "cellMetadata": {},
     "inputWidgets": {},
     "nuid": "39f55d85-bcad-414e-aaad-4c56960b67c9",
     "showTitle": false,
     "title": ""
    }
   },
   "source": [
    "## Desafio 1\n",
    "\n",
    "* Construya un script que genere de forma automática los datos de: departamentos, puestos de trabajo, y empleados."
   ]
  },
  {
   "cell_type": "markdown",
   "metadata": {
    "application/vnd.databricks.v1+cell": {
     "cellMetadata": {},
     "inputWidgets": {},
     "nuid": "a95dc995-b4aa-40b6-a401-f8277ecb3abe",
     "showTitle": false,
     "title": ""
    }
   },
   "source": [
    "Vamos a crear bases de datos para cada uno de los tres ítems solicitados. Comenzaremos con la base de Departamentos para una empresa de tecnología"
   ]
  },
  {
   "cell_type": "code",
   "execution_count": null,
   "metadata": {
    "application/vnd.databricks.v1+cell": {
     "cellMetadata": {
      "byteLimit": 2048000,
      "rowLimit": 10000
     },
     "inputWidgets": {},
     "nuid": "6308c9c0-ceea-4794-958d-51ca907e3ba1",
     "showTitle": false,
     "title": ""
    }
   },
   "outputs": [],
   "source": [
    "departamentos = [\n",
    "    'Datos',\n",
    "    'Desarollo de software',\n",
    "    'Infraestructura',\n",
    "    'Soporte Técnico',\n",
    "    'Gestión de Proyectos',\n",
    "    'Recursos Humanos',\n",
    "    'Investigación y desarrollo',\n",
    "    ]\n",
    "\n",
    "# Con esta sección de código crearemos la identificación para cada departamento\n",
    "id_departamentos = ['DEP' + str(i).zfill(2) for i in range(1, len(departamentos) + 1)]\n"
   ]
  },
  {
   "cell_type": "markdown",
   "metadata": {
    "application/vnd.databricks.v1+cell": {
     "cellMetadata": {},
     "inputWidgets": {},
     "nuid": "38ce549b-6caf-4f54-a7e2-3e789b9a2680",
     "showTitle": false,
     "title": ""
    }
   },
   "source": [
    "Ya que se crearon las litas con los departamentos y su identificación generamos el DataFrame"
   ]
  },
  {
   "cell_type": "code",
   "execution_count": null,
   "metadata": {
    "application/vnd.databricks.v1+cell": {
     "cellMetadata": {
      "byteLimit": 2048000,
      "rowLimit": 10000
     },
     "inputWidgets": {},
     "nuid": "f32758e5-6ec1-4411-be79-596c8be701aa",
     "showTitle": false,
     "title": ""
    }
   },
   "outputs": [],
   "source": [
    "df_departamentos = pd.DataFrame({\n",
    "    'Departamento': departamentos,\n",
    "    'Id_Dep': id_departamentos\n",
    "})\n"
   ]
  },
  {
   "cell_type": "code",
   "execution_count": null,
   "metadata": {
    "application/vnd.databricks.v1+cell": {
     "cellMetadata": {
      "byteLimit": 2048000,
      "rowLimit": 10000
     },
     "inputWidgets": {},
     "nuid": "83c4fe30-dbfc-4ecc-9764-65481c5f8bcd",
     "showTitle": false,
     "title": ""
    }
   },
   "outputs": [
    {
     "data": {
      "text/html": [
       "<div>\n",
       "<style scoped>\n",
       "    .dataframe tbody tr th:only-of-type {\n",
       "        vertical-align: middle;\n",
       "    }\n",
       "\n",
       "    .dataframe tbody tr th {\n",
       "        vertical-align: top;\n",
       "    }\n",
       "\n",
       "    .dataframe thead th {\n",
       "        text-align: right;\n",
       "    }\n",
       "</style>\n",
       "<table border=\"1\" class=\"dataframe\">\n",
       "  <thead>\n",
       "    <tr style=\"text-align: right;\">\n",
       "      <th></th>\n",
       "      <th>Departamento</th>\n",
       "      <th>Id_Dep</th>\n",
       "    </tr>\n",
       "  </thead>\n",
       "  <tbody>\n",
       "    <tr>\n",
       "      <th>0</th>\n",
       "      <td>Datos</td>\n",
       "      <td>DEP01</td>\n",
       "    </tr>\n",
       "    <tr>\n",
       "      <th>1</th>\n",
       "      <td>Desarollo de software</td>\n",
       "      <td>DEP02</td>\n",
       "    </tr>\n",
       "    <tr>\n",
       "      <th>2</th>\n",
       "      <td>Infraestructura</td>\n",
       "      <td>DEP03</td>\n",
       "    </tr>\n",
       "    <tr>\n",
       "      <th>3</th>\n",
       "      <td>Soporte Técnico</td>\n",
       "      <td>DEP04</td>\n",
       "    </tr>\n",
       "    <tr>\n",
       "      <th>4</th>\n",
       "      <td>Gestión de Proyectos</td>\n",
       "      <td>DEP05</td>\n",
       "    </tr>\n",
       "    <tr>\n",
       "      <th>5</th>\n",
       "      <td>Recursos Humanos</td>\n",
       "      <td>DEP06</td>\n",
       "    </tr>\n",
       "    <tr>\n",
       "      <th>6</th>\n",
       "      <td>Investigación y desarrollo</td>\n",
       "      <td>DEP07</td>\n",
       "    </tr>\n",
       "  </tbody>\n",
       "</table>\n",
       "</div>"
      ]
     },
     "metadata": {
      "application/vnd.databricks.v1+output": {
       "addedWidgets": {},
       "arguments": {},
       "data": "<div>\n<style scoped>\n    .dataframe tbody tr th:only-of-type {\n        vertical-align: middle;\n    }\n\n    .dataframe tbody tr th {\n        vertical-align: top;\n    }\n\n    .dataframe thead th {\n        text-align: right;\n    }\n</style>\n<table border=\"1\" class=\"dataframe\">\n  <thead>\n    <tr style=\"text-align: right;\">\n      <th></th>\n      <th>Departamento</th>\n      <th>Id_Dep</th>\n    </tr>\n  </thead>\n  <tbody>\n    <tr>\n      <th>0</th>\n      <td>Datos</td>\n      <td>DEP01</td>\n    </tr>\n    <tr>\n      <th>1</th>\n      <td>Desarollo de software</td>\n      <td>DEP02</td>\n    </tr>\n    <tr>\n      <th>2</th>\n      <td>Infraestructura</td>\n      <td>DEP03</td>\n    </tr>\n    <tr>\n      <th>3</th>\n      <td>Soporte Técnico</td>\n      <td>DEP04</td>\n    </tr>\n    <tr>\n      <th>4</th>\n      <td>Gestión de Proyectos</td>\n      <td>DEP05</td>\n    </tr>\n    <tr>\n      <th>5</th>\n      <td>Recursos Humanos</td>\n      <td>DEP06</td>\n    </tr>\n    <tr>\n      <th>6</th>\n      <td>Investigación y desarrollo</td>\n      <td>DEP07</td>\n    </tr>\n  </tbody>\n</table>\n</div>",
       "datasetInfos": [],
       "metadata": {},
       "removedWidgets": [],
       "textData": null,
       "type": "htmlSandbox"
      }
     },
     "output_type": "display_data"
    }
   ],
   "source": [
    "df_departamentos"
   ]
  },
  {
   "cell_type": "markdown",
   "metadata": {
    "application/vnd.databricks.v1+cell": {
     "cellMetadata": {},
     "inputWidgets": {},
     "nuid": "2060a5cd-6fb7-4ba9-96fc-9dc5b57e4f61",
     "showTitle": false,
     "title": ""
    }
   },
   "source": [
    "Ahora realizamos el mismo ejercicio para para los puesto de trabajo dentro de la empresa de tecnología, con su respectiva identificación"
   ]
  },
  {
   "cell_type": "code",
   "execution_count": null,
   "metadata": {
    "application/vnd.databricks.v1+cell": {
     "cellMetadata": {
      "byteLimit": 2048000,
      "rowLimit": 10000
     },
     "inputWidgets": {},
     "nuid": "2d426558-991b-493f-bc3d-47f0b3e5cf4f",
     "showTitle": false,
     "title": ""
    }
   },
   "outputs": [],
   "source": [
    "puestos_trabajo = [\n",
    "    \"Desarrollador de Software\", \"Analista de Sistemas\", \"Ingeniero de Software\", \n",
    "    \"Técnico de Soporte\", \"Gerente de Proyecto\", \"Diseñador UX/UI\", \"Especialista en Seguridad Informática\",\"Analista de Datos\",\"Analísta Bi\", \n",
    "    \"Ingeniero de Datos\", \"Científico de Datos\", \"Administrador de Base de Datos\", \n",
    "    \"Gerente de TI\", \"Analista de Negocios\", \"Coordinador de Recursos Humanos\", \"TI Recruiter\" ,\"Ingeniero de Telecomunicaciones\", \"Especialista en Redes\"\n",
    "]\n",
    "# Con esta fracción del mismo modo creamos e Id para cada puesto de trabajo\n",
    "id_puestos = ['PT' + str(i).zfill(2) for i in range(1, len(puestos_trabajo) + 1)]\n"
   ]
  },
  {
   "cell_type": "markdown",
   "metadata": {
    "application/vnd.databricks.v1+cell": {
     "cellMetadata": {
      "byteLimit": 2048000,
      "rowLimit": 10000
     },
     "inputWidgets": {},
     "nuid": "c62b222e-6cfc-4f50-a193-a6e43c74a934",
     "showTitle": false,
     "title": ""
    }
   },
   "source": [
    "De nuevo generamos el DataFrame ya con las listas de la identificación y el pesto de trabajo creado"
   ]
  },
  {
   "cell_type": "code",
   "execution_count": null,
   "metadata": {
    "application/vnd.databricks.v1+cell": {
     "cellMetadata": {
      "byteLimit": 2048000,
      "rowLimit": 10000
     },
     "inputWidgets": {},
     "nuid": "eacff2ad-3023-47cb-a942-07f0ff06b65d",
     "showTitle": false,
     "title": ""
    }
   },
   "outputs": [],
   "source": [
    "df_puestos = pd.DataFrame({\n",
    "    'Cargo': puestos_trabajo,\n",
    "    'Id_Cargo': id_puestos\n",
    "})\n"
   ]
  },
  {
   "cell_type": "code",
   "execution_count": null,
   "metadata": {
    "application/vnd.databricks.v1+cell": {
     "cellMetadata": {
      "byteLimit": 2048000,
      "rowLimit": 10000
     },
     "inputWidgets": {},
     "nuid": "071674f7-dd39-43d6-92aa-f2b50bd0e9f4",
     "showTitle": false,
     "title": ""
    }
   },
   "outputs": [
    {
     "data": {
      "text/html": [
       "<div>\n",
       "<style scoped>\n",
       "    .dataframe tbody tr th:only-of-type {\n",
       "        vertical-align: middle;\n",
       "    }\n",
       "\n",
       "    .dataframe tbody tr th {\n",
       "        vertical-align: top;\n",
       "    }\n",
       "\n",
       "    .dataframe thead th {\n",
       "        text-align: right;\n",
       "    }\n",
       "</style>\n",
       "<table border=\"1\" class=\"dataframe\">\n",
       "  <thead>\n",
       "    <tr style=\"text-align: right;\">\n",
       "      <th></th>\n",
       "      <th>Cargo</th>\n",
       "      <th>Id_Cargo</th>\n",
       "    </tr>\n",
       "  </thead>\n",
       "  <tbody>\n",
       "    <tr>\n",
       "      <th>0</th>\n",
       "      <td>Desarrollador de Software</td>\n",
       "      <td>PT01</td>\n",
       "    </tr>\n",
       "    <tr>\n",
       "      <th>1</th>\n",
       "      <td>Analista de Sistemas</td>\n",
       "      <td>PT02</td>\n",
       "    </tr>\n",
       "    <tr>\n",
       "      <th>2</th>\n",
       "      <td>Ingeniero de Software</td>\n",
       "      <td>PT03</td>\n",
       "    </tr>\n",
       "    <tr>\n",
       "      <th>3</th>\n",
       "      <td>Técnico de Soporte</td>\n",
       "      <td>PT04</td>\n",
       "    </tr>\n",
       "    <tr>\n",
       "      <th>4</th>\n",
       "      <td>Gerente de Proyecto</td>\n",
       "      <td>PT05</td>\n",
       "    </tr>\n",
       "    <tr>\n",
       "      <th>5</th>\n",
       "      <td>Diseñador UX/UI</td>\n",
       "      <td>PT06</td>\n",
       "    </tr>\n",
       "    <tr>\n",
       "      <th>6</th>\n",
       "      <td>Especialista en Seguridad Informática</td>\n",
       "      <td>PT07</td>\n",
       "    </tr>\n",
       "    <tr>\n",
       "      <th>7</th>\n",
       "      <td>Analista de Datos</td>\n",
       "      <td>PT08</td>\n",
       "    </tr>\n",
       "    <tr>\n",
       "      <th>8</th>\n",
       "      <td>Analísta Bi</td>\n",
       "      <td>PT09</td>\n",
       "    </tr>\n",
       "    <tr>\n",
       "      <th>9</th>\n",
       "      <td>Ingeniero de Datos</td>\n",
       "      <td>PT10</td>\n",
       "    </tr>\n",
       "    <tr>\n",
       "      <th>10</th>\n",
       "      <td>Científico de Datos</td>\n",
       "      <td>PT11</td>\n",
       "    </tr>\n",
       "    <tr>\n",
       "      <th>11</th>\n",
       "      <td>Administrador de Base de Datos</td>\n",
       "      <td>PT12</td>\n",
       "    </tr>\n",
       "    <tr>\n",
       "      <th>12</th>\n",
       "      <td>Gerente de TI</td>\n",
       "      <td>PT13</td>\n",
       "    </tr>\n",
       "    <tr>\n",
       "      <th>13</th>\n",
       "      <td>Analista de Negocios</td>\n",
       "      <td>PT14</td>\n",
       "    </tr>\n",
       "    <tr>\n",
       "      <th>14</th>\n",
       "      <td>Coordinador de Recursos Humanos</td>\n",
       "      <td>PT15</td>\n",
       "    </tr>\n",
       "    <tr>\n",
       "      <th>15</th>\n",
       "      <td>TI Recruiter</td>\n",
       "      <td>PT16</td>\n",
       "    </tr>\n",
       "    <tr>\n",
       "      <th>16</th>\n",
       "      <td>Ingeniero de Telecomunicaciones</td>\n",
       "      <td>PT17</td>\n",
       "    </tr>\n",
       "    <tr>\n",
       "      <th>17</th>\n",
       "      <td>Especialista en Redes</td>\n",
       "      <td>PT18</td>\n",
       "    </tr>\n",
       "  </tbody>\n",
       "</table>\n",
       "</div>"
      ]
     },
     "metadata": {
      "application/vnd.databricks.v1+output": {
       "addedWidgets": {},
       "arguments": {},
       "data": "<div>\n<style scoped>\n    .dataframe tbody tr th:only-of-type {\n        vertical-align: middle;\n    }\n\n    .dataframe tbody tr th {\n        vertical-align: top;\n    }\n\n    .dataframe thead th {\n        text-align: right;\n    }\n</style>\n<table border=\"1\" class=\"dataframe\">\n  <thead>\n    <tr style=\"text-align: right;\">\n      <th></th>\n      <th>Cargo</th>\n      <th>Id_Cargo</th>\n    </tr>\n  </thead>\n  <tbody>\n    <tr>\n      <th>0</th>\n      <td>Desarrollador de Software</td>\n      <td>PT01</td>\n    </tr>\n    <tr>\n      <th>1</th>\n      <td>Analista de Sistemas</td>\n      <td>PT02</td>\n    </tr>\n    <tr>\n      <th>2</th>\n      <td>Ingeniero de Software</td>\n      <td>PT03</td>\n    </tr>\n    <tr>\n      <th>3</th>\n      <td>Técnico de Soporte</td>\n      <td>PT04</td>\n    </tr>\n    <tr>\n      <th>4</th>\n      <td>Gerente de Proyecto</td>\n      <td>PT05</td>\n    </tr>\n    <tr>\n      <th>5</th>\n      <td>Diseñador UX/UI</td>\n      <td>PT06</td>\n    </tr>\n    <tr>\n      <th>6</th>\n      <td>Especialista en Seguridad Informática</td>\n      <td>PT07</td>\n    </tr>\n    <tr>\n      <th>7</th>\n      <td>Analista de Datos</td>\n      <td>PT08</td>\n    </tr>\n    <tr>\n      <th>8</th>\n      <td>Analísta Bi</td>\n      <td>PT09</td>\n    </tr>\n    <tr>\n      <th>9</th>\n      <td>Ingeniero de Datos</td>\n      <td>PT10</td>\n    </tr>\n    <tr>\n      <th>10</th>\n      <td>Científico de Datos</td>\n      <td>PT11</td>\n    </tr>\n    <tr>\n      <th>11</th>\n      <td>Administrador de Base de Datos</td>\n      <td>PT12</td>\n    </tr>\n    <tr>\n      <th>12</th>\n      <td>Gerente de TI</td>\n      <td>PT13</td>\n    </tr>\n    <tr>\n      <th>13</th>\n      <td>Analista de Negocios</td>\n      <td>PT14</td>\n    </tr>\n    <tr>\n      <th>14</th>\n      <td>Coordinador de Recursos Humanos</td>\n      <td>PT15</td>\n    </tr>\n    <tr>\n      <th>15</th>\n      <td>TI Recruiter</td>\n      <td>PT16</td>\n    </tr>\n    <tr>\n      <th>16</th>\n      <td>Ingeniero de Telecomunicaciones</td>\n      <td>PT17</td>\n    </tr>\n    <tr>\n      <th>17</th>\n      <td>Especialista en Redes</td>\n      <td>PT18</td>\n    </tr>\n  </tbody>\n</table>\n</div>",
       "datasetInfos": [],
       "metadata": {},
       "removedWidgets": [],
       "textData": null,
       "type": "htmlSandbox"
      }
     },
     "output_type": "display_data"
    }
   ],
   "source": [
    "df_puestos"
   ]
  },
  {
   "cell_type": "markdown",
   "metadata": {
    "application/vnd.databricks.v1+cell": {
     "cellMetadata": {},
     "inputWidgets": {},
     "nuid": "4149e690-7846-403e-8e0d-a6dcc5b44cc5",
     "showTitle": false,
     "title": ""
    }
   },
   "source": [
    "Ahora creamos la base de datos empleados, pero para este caso, realizamos la asociación de cada uno de los puestos de trabajo con su respectivo departamento para que en la creación de la base queden asignados de la manera correcta cada puesto de trabajo con su respectivo departamento. "
   ]
  },
  {
   "cell_type": "code",
   "execution_count": null,
   "metadata": {
    "application/vnd.databricks.v1+cell": {
     "cellMetadata": {
      "byteLimit": 2048000,
      "rowLimit": 10000
     },
     "inputWidgets": {},
     "nuid": "0d051c2d-c155-49d6-856b-3a4e9586559c",
     "showTitle": false,
     "title": ""
    }
   },
   "outputs": [],
   "source": [
    "puestos_por_departamento = {\n",
    "    'Datos': [\n",
    "        \"Ingeniero de Datos\", \n",
    "        \"Científico de Datos\", \n",
    "        \"Analista de Datos\"\n",
    "    ],\n",
    "    'Desarrollo de Software': [\n",
    "        \"Desarrollador de Software\", \n",
    "        \"Analista de Sistemas\", \n",
    "        \"Ingeniero de Software\", \n",
    "        \"Diseñador UX/UI\"\n",
    "    ],\n",
    "    'Infraestructura': [\n",
    "        \"Especialista en Seguridad Informática\",\n",
    "        \"Administrador de Base de Datos\",\n",
    "        \"Especialista en Redes\"\n",
    "    ],\n",
    "    'Soporte Técnico': [\n",
    "        \"Técnico de Soporte\",\n",
    "        \"ingeniero de Telecomunicaciones\"\n",
    "    ],\n",
    "    'Gestión de Proyectos': [\n",
    "        \"Gerente de Proyecto\", \n",
    "        \"Gerente de TI\"\n",
    "    ],\n",
    "    'Investigación y Desarrollo': [\n",
    "        \"Analista de Negocios\",\n",
    "        \"Analista Bi\"\n",
    "    ]\n",
    "    }\n"
   ]
  },
  {
   "cell_type": "markdown",
   "metadata": {
    "application/vnd.databricks.v1+cell": {
     "cellMetadata": {},
     "inputWidgets": {},
     "nuid": "5351260f-a5da-4bb2-bbeb-fdc7d626f308",
     "showTitle": false,
     "title": ""
    }
   },
   "source": [
    "Ahora utilizamos la biblioteca faker para crear un nombre, un correo falso, una dirección y una fecha de nacimiento para cada empleado"
   ]
  },
  {
   "cell_type": "markdown",
   "metadata": {
    "application/vnd.databricks.v1+cell": {
     "cellMetadata": {},
     "inputWidgets": {},
     "nuid": "c8adac68-b7b6-468c-a98b-9cfd965de7c9",
     "showTitle": false,
     "title": ""
    }
   },
   "source": [
    "Creamnos la función para crear la fecha de nacimiento"
   ]
  },
  {
   "cell_type": "code",
   "execution_count": null,
   "metadata": {
    "application/vnd.databricks.v1+cell": {
     "cellMetadata": {
      "byteLimit": 2048000,
      "rowLimit": 10000
     },
     "inputWidgets": {},
     "nuid": "b0c0eb8c-95d6-470d-af04-b6642d03c307",
     "showTitle": false,
     "title": ""
    }
   },
   "outputs": [],
   "source": [
    "from datetime import datetime\n",
    "\n",
    "fake = Faker('es_CO')\n",
    "def generar_fecha_nacimiento(edad_minima=22, edad_maxima=65):\n",
    "\n",
    "    año_actual = datetime.now().year\n",
    "    año_nacimiento = random.randint(año_actual - edad_maxima, año_actual - edad_minima)\n",
    "    fecha = fake.date_of_birth(minimum_age=edad_minima, maximum_age=edad_maxima)\n",
    "   \n",
    "    fecha_nacimiento = fecha.replace(year=año_nacimiento)\n",
    "    \n",
    "    return fecha_nacimiento.strftime(\"%Y-%m-%d\")"
   ]
  },
  {
   "cell_type": "markdown",
   "metadata": {
    "application/vnd.databricks.v1+cell": {
     "cellMetadata": {},
     "inputWidgets": {},
     "nuid": "2e8af26d-669a-4524-9174-c86131077081",
     "showTitle": false,
     "title": ""
    }
   },
   "source": [
    "Creamos la función para la dirección tan solo tomando la primera parte de la dirección generada por fake, ya que lo que genera esta biblioteca brinda información que no es relevante para el ejercicio."
   ]
  },
  {
   "cell_type": "code",
   "execution_count": null,
   "metadata": {
    "application/vnd.databricks.v1+cell": {
     "cellMetadata": {
      "byteLimit": 2048000,
      "rowLimit": 10000
     },
     "inputWidgets": {},
     "nuid": "4ae48077-c0e4-4a9b-8f28-0c464b967dd9",
     "showTitle": false,
     "title": ""
    }
   },
   "outputs": [],
   "source": [
    "def generar_direccion():\n",
    "    direccion_completa = fake.address()\n",
    "    primera_linea = direccion_completa.split('\\n')[0]\n",
    "    return primera_linea"
   ]
  },
  {
   "cell_type": "markdown",
   "metadata": {
    "application/vnd.databricks.v1+cell": {
     "cellMetadata": {},
     "inputWidgets": {},
     "nuid": "6118b43c-13d5-4e40-94fe-77453c851ee6",
     "showTitle": false,
     "title": ""
    }
   },
   "source": [
    "Creamos la función para generar la lista de empleados con cada una de sus características"
   ]
  },
  {
   "cell_type": "code",
   "execution_count": null,
   "metadata": {
    "application/vnd.databricks.v1+cell": {
     "cellMetadata": {
      "byteLimit": 2048000,
      "rowLimit": 10000
     },
     "inputWidgets": {},
     "nuid": "79249138-5ac0-4e56-9fed-52993740851c",
     "showTitle": false,
     "title": ""
    }
   },
   "outputs": [],
   "source": [
    "fake = Faker('es_CO')\n",
    "def generar_empleado(puestos_por_departamento):\n",
    "    \n",
    "    ## Con esta fracción tomamos de la lista relacionada de puestospor deartamento un aleatorio relacionado\n",
    "    departamento = random.choice([dep for dep in puestos_por_departamento if puestos_por_departamento[dep]])\n",
    "    \n",
    "    puesto = random.choice(puestos_por_departamento[departamento])\n",
    "    nombre_completo = fake.name()\n",
    "    correo = fake.email()\n",
    "    direccion = generar_direccion()\n",
    "    fecha_nac = generar_fecha_nacimiento()\n",
    "    return {\n",
    "        'Nombre': nombre_completo,\n",
    "        'Edad' : fecha_nac,\n",
    "        'direccion': direccion,\n",
    "        'Correo': correo,\n",
    "        'Departamento': departamento,\n",
    "        'Puesto': puesto\n",
    "\n",
    "    }"
   ]
  },
  {
   "cell_type": "markdown",
   "metadata": {
    "application/vnd.databricks.v1+cell": {
     "cellMetadata": {},
     "inputWidgets": {},
     "nuid": "b4f3f2b7-9734-49d4-8da9-fe90c5c37987",
     "showTitle": false,
     "title": ""
    }
   },
   "source": [
    "Aplicamos la función para crear 30 empleados con su correspondiente información y lo convertimos a un DataFrame de Pandas"
   ]
  },
  {
   "cell_type": "code",
   "execution_count": null,
   "metadata": {
    "application/vnd.databricks.v1+cell": {
     "cellMetadata": {
      "byteLimit": 2048000,
      "rowLimit": 10000
     },
     "inputWidgets": {},
     "nuid": "413fae9b-53b5-48c3-87a9-b9831ffd7bda",
     "showTitle": false,
     "title": ""
    }
   },
   "outputs": [],
   "source": [
    "empleados = [generar_empleado(puestos_por_departamento) for _ in range(30)]\n",
    "df_empleados = pd.DataFrame(empleados)"
   ]
  },
  {
   "cell_type": "code",
   "execution_count": null,
   "metadata": {
    "application/vnd.databricks.v1+cell": {
     "cellMetadata": {
      "byteLimit": 2048000,
      "rowLimit": 10000
     },
     "inputWidgets": {},
     "nuid": "747e9e70-a4c0-44f0-9cc2-8767bc2ca6a5",
     "showTitle": false,
     "title": ""
    }
   },
   "outputs": [
    {
     "data": {
      "text/html": [
       "<div>\n",
       "<style scoped>\n",
       "    .dataframe tbody tr th:only-of-type {\n",
       "        vertical-align: middle;\n",
       "    }\n",
       "\n",
       "    .dataframe tbody tr th {\n",
       "        vertical-align: top;\n",
       "    }\n",
       "\n",
       "    .dataframe thead th {\n",
       "        text-align: right;\n",
       "    }\n",
       "</style>\n",
       "<table border=\"1\" class=\"dataframe\">\n",
       "  <thead>\n",
       "    <tr style=\"text-align: right;\">\n",
       "      <th></th>\n",
       "      <th>Nombre</th>\n",
       "      <th>Edad</th>\n",
       "      <th>direccion</th>\n",
       "      <th>Correo</th>\n",
       "      <th>Departamento</th>\n",
       "      <th>Puesto</th>\n",
       "    </tr>\n",
       "  </thead>\n",
       "  <tbody>\n",
       "    <tr>\n",
       "      <th>0</th>\n",
       "      <td>Juliana Escobar</td>\n",
       "      <td>1996-12-19</td>\n",
       "      <td>Cl. 7L Este # 3-1 Este</td>\n",
       "      <td>garciajorge@example.net</td>\n",
       "      <td>Infraestructura</td>\n",
       "      <td>Administrador de Base de Datos</td>\n",
       "    </tr>\n",
       "    <tr>\n",
       "      <th>1</th>\n",
       "      <td>Carlos Jhon Salazar Burbano</td>\n",
       "      <td>1959-06-11</td>\n",
       "      <td>Cl. 37 # 2-65 Este</td>\n",
       "      <td>torresjorge@example.com</td>\n",
       "      <td>Investigación y Desarrollo</td>\n",
       "      <td>Analista de Negocios</td>\n",
       "    </tr>\n",
       "    <tr>\n",
       "      <th>2</th>\n",
       "      <td>Yeison Martínez Prada</td>\n",
       "      <td>1960-07-09</td>\n",
       "      <td>Cl. 199 # 8R-2</td>\n",
       "      <td>edgar56@example.org</td>\n",
       "      <td>Datos</td>\n",
       "      <td>Ingeniero de Datos</td>\n",
       "    </tr>\n",
       "    <tr>\n",
       "      <th>3</th>\n",
       "      <td>Luisa Gamboa</td>\n",
       "      <td>1993-06-27</td>\n",
       "      <td>Avenida carrera 4ª # 90-1</td>\n",
       "      <td>luciabarragan@example.net</td>\n",
       "      <td>Desarrollo de Software</td>\n",
       "      <td>Analista de Sistemas</td>\n",
       "    </tr>\n",
       "    <tr>\n",
       "      <th>4</th>\n",
       "      <td>Carlos Arturo Méndez Páez</td>\n",
       "      <td>2000-06-18</td>\n",
       "      <td>Diagonal 151E # 8-66 Este</td>\n",
       "      <td>jefferson11@example.net</td>\n",
       "      <td>Gestión de Proyectos</td>\n",
       "      <td>Gerente de TI</td>\n",
       "    </tr>\n",
       "    <tr>\n",
       "      <th>5</th>\n",
       "      <td>María Laura García López</td>\n",
       "      <td>1969-05-22</td>\n",
       "      <td>Calle 51 # 8-2 Este</td>\n",
       "      <td>suarezdaniel@example.com</td>\n",
       "      <td>Desarrollo de Software</td>\n",
       "      <td>Desarrollador de Software</td>\n",
       "    </tr>\n",
       "    <tr>\n",
       "      <th>6</th>\n",
       "      <td>Lina Marín</td>\n",
       "      <td>1959-02-16</td>\n",
       "      <td>Cr. 30 # 44-1 Este</td>\n",
       "      <td>hoyosluz@example.org</td>\n",
       "      <td>Datos</td>\n",
       "      <td>Científico de Datos</td>\n",
       "    </tr>\n",
       "    <tr>\n",
       "      <th>7</th>\n",
       "      <td>Mirian Elena Cárdenas</td>\n",
       "      <td>1995-11-17</td>\n",
       "      <td>Cr. 54 # 42-9 Este</td>\n",
       "      <td>maria99@example.net</td>\n",
       "      <td>Investigación y Desarrollo</td>\n",
       "      <td>Analista de Negocios</td>\n",
       "    </tr>\n",
       "    <tr>\n",
       "      <th>8</th>\n",
       "      <td>Martha Pabón Cárdenas</td>\n",
       "      <td>1982-08-07</td>\n",
       "      <td>Av. carrera 108 # 7-6 Sur</td>\n",
       "      <td>velezalexander@example.net</td>\n",
       "      <td>Gestión de Proyectos</td>\n",
       "      <td>Gerente de TI</td>\n",
       "    </tr>\n",
       "    <tr>\n",
       "      <th>9</th>\n",
       "      <td>María Jaramillo Arenas</td>\n",
       "      <td>1996-09-25</td>\n",
       "      <td>Calle 5ª # 49-2 Este</td>\n",
       "      <td>mcorrea@example.net</td>\n",
       "      <td>Infraestructura</td>\n",
       "      <td>Administrador de Base de Datos</td>\n",
       "    </tr>\n",
       "    <tr>\n",
       "      <th>10</th>\n",
       "      <td>Arturo Carlos Hernández</td>\n",
       "      <td>1999-04-27</td>\n",
       "      <td>Cr. 14 # 31G-1</td>\n",
       "      <td>djimenez@example.net</td>\n",
       "      <td>Infraestructura</td>\n",
       "      <td>Administrador de Base de Datos</td>\n",
       "    </tr>\n",
       "    <tr>\n",
       "      <th>11</th>\n",
       "      <td>Alberto Perea Correa</td>\n",
       "      <td>1997-11-26</td>\n",
       "      <td>Cr. 145 # 7-93</td>\n",
       "      <td>leonardobravo@example.com</td>\n",
       "      <td>Infraestructura</td>\n",
       "      <td>Administrador de Base de Datos</td>\n",
       "    </tr>\n",
       "    <tr>\n",
       "      <th>12</th>\n",
       "      <td>Luis Ariza Gutiérrez</td>\n",
       "      <td>1997-03-07</td>\n",
       "      <td>Carrera 34X # 8-86</td>\n",
       "      <td>thernandez@example.org</td>\n",
       "      <td>Soporte Técnico</td>\n",
       "      <td>Técnico de Soporte</td>\n",
       "    </tr>\n",
       "    <tr>\n",
       "      <th>13</th>\n",
       "      <td>Carolina Elena Pineda</td>\n",
       "      <td>1998-05-05</td>\n",
       "      <td>Transversal 173Y # 9-48 Sur</td>\n",
       "      <td>vasquezdavid@example.com</td>\n",
       "      <td>Desarrollo de Software</td>\n",
       "      <td>Desarrollador de Software</td>\n",
       "    </tr>\n",
       "    <tr>\n",
       "      <th>14</th>\n",
       "      <td>Eduardo Herrera Rodríguez</td>\n",
       "      <td>1999-07-03</td>\n",
       "      <td>Cr. 91 # 52-54</td>\n",
       "      <td>ardilaluis@example.com</td>\n",
       "      <td>Soporte Técnico</td>\n",
       "      <td>ingeniero de Telecomunicaciones</td>\n",
       "    </tr>\n",
       "    <tr>\n",
       "      <th>15</th>\n",
       "      <td>Lorena Flórez</td>\n",
       "      <td>1999-02-15</td>\n",
       "      <td>Carrera 67A # 61-1 Este</td>\n",
       "      <td>asanchez@example.org</td>\n",
       "      <td>Investigación y Desarrollo</td>\n",
       "      <td>Analista Bi</td>\n",
       "    </tr>\n",
       "    <tr>\n",
       "      <th>16</th>\n",
       "      <td>Alejandro Vega</td>\n",
       "      <td>1996-01-28</td>\n",
       "      <td>Calle 10 # 4-39</td>\n",
       "      <td>palaciossergio@example.net</td>\n",
       "      <td>Investigación y Desarrollo</td>\n",
       "      <td>Analista de Negocios</td>\n",
       "    </tr>\n",
       "    <tr>\n",
       "      <th>17</th>\n",
       "      <td>Fernando Ángel Gil</td>\n",
       "      <td>2001-11-03</td>\n",
       "      <td>Dg. 119 Sur # 9-9</td>\n",
       "      <td>gonzalezangel@example.net</td>\n",
       "      <td>Datos</td>\n",
       "      <td>Científico de Datos</td>\n",
       "    </tr>\n",
       "    <tr>\n",
       "      <th>18</th>\n",
       "      <td>Flor Lozano</td>\n",
       "      <td>1981-11-18</td>\n",
       "      <td>Cl. 40 # 8K-26 Este</td>\n",
       "      <td>silviavillamizar@example.com</td>\n",
       "      <td>Gestión de Proyectos</td>\n",
       "      <td>Gerente de Proyecto</td>\n",
       "    </tr>\n",
       "    <tr>\n",
       "      <th>19</th>\n",
       "      <td>David Andrés Duque Martínez</td>\n",
       "      <td>1959-05-14</td>\n",
       "      <td>Cl. 5D # 68U-5 Sur</td>\n",
       "      <td>aliciamendoza@example.net</td>\n",
       "      <td>Gestión de Proyectos</td>\n",
       "      <td>Gerente de TI</td>\n",
       "    </tr>\n",
       "    <tr>\n",
       "      <th>20</th>\n",
       "      <td>Elvis Carlos Ospino Muñoz</td>\n",
       "      <td>2000-10-18</td>\n",
       "      <td>Avenida Marcela Granados Álvarez # 10-54 Sur</td>\n",
       "      <td>sandra39@example.com</td>\n",
       "      <td>Desarrollo de Software</td>\n",
       "      <td>Diseñador UX/UI</td>\n",
       "    </tr>\n",
       "    <tr>\n",
       "      <th>21</th>\n",
       "      <td>Carolina Alejandra Vallejo</td>\n",
       "      <td>1966-10-18</td>\n",
       "      <td>Av. Cunday # 4-7</td>\n",
       "      <td>victoriacalderon@example.com</td>\n",
       "      <td>Infraestructura</td>\n",
       "      <td>Administrador de Base de Datos</td>\n",
       "    </tr>\n",
       "    <tr>\n",
       "      <th>22</th>\n",
       "      <td>Sonia Mónica Caicedo</td>\n",
       "      <td>1988-05-06</td>\n",
       "      <td>Tr. 39 # 70-39</td>\n",
       "      <td>vanegaslinda@example.org</td>\n",
       "      <td>Gestión de Proyectos</td>\n",
       "      <td>Gerente de TI</td>\n",
       "    </tr>\n",
       "    <tr>\n",
       "      <th>23</th>\n",
       "      <td>Fabio Mario Velasco Pérez</td>\n",
       "      <td>1964-07-24</td>\n",
       "      <td>Cl. 63 # 71-73 Sur</td>\n",
       "      <td>carlosmartinez@example.net</td>\n",
       "      <td>Gestión de Proyectos</td>\n",
       "      <td>Gerente de TI</td>\n",
       "    </tr>\n",
       "    <tr>\n",
       "      <th>24</th>\n",
       "      <td>Tatiana Arango</td>\n",
       "      <td>1977-02-05</td>\n",
       "      <td>Cl. 8A Bis # 6W-3</td>\n",
       "      <td>wjimenez@example.com</td>\n",
       "      <td>Datos</td>\n",
       "      <td>Analista de Datos</td>\n",
       "    </tr>\n",
       "    <tr>\n",
       "      <th>25</th>\n",
       "      <td>Miguel Leonardo Chaparro</td>\n",
       "      <td>1977-01-10</td>\n",
       "      <td>Av. carrera 8ª # 8-63</td>\n",
       "      <td>rodriguezmilena@example.net</td>\n",
       "      <td>Infraestructura</td>\n",
       "      <td>Administrador de Base de Datos</td>\n",
       "    </tr>\n",
       "    <tr>\n",
       "      <th>26</th>\n",
       "      <td>Andrés Jhon Cano</td>\n",
       "      <td>1978-08-16</td>\n",
       "      <td>Tr. 12 # 7-6 Este</td>\n",
       "      <td>esthermoreno@example.net</td>\n",
       "      <td>Datos</td>\n",
       "      <td>Científico de Datos</td>\n",
       "    </tr>\n",
       "    <tr>\n",
       "      <th>27</th>\n",
       "      <td>Andrea Carolina Monroy</td>\n",
       "      <td>1978-11-27</td>\n",
       "      <td>Cr. 46 Este # 6W-74 Este</td>\n",
       "      <td>lealdavid@example.net</td>\n",
       "      <td>Datos</td>\n",
       "      <td>Analista de Datos</td>\n",
       "    </tr>\n",
       "    <tr>\n",
       "      <th>28</th>\n",
       "      <td>Beatriz Marcela Olaya</td>\n",
       "      <td>1963-12-16</td>\n",
       "      <td>Carrera 55 # 1-5 Este</td>\n",
       "      <td>dcastillo@example.org</td>\n",
       "      <td>Desarrollo de Software</td>\n",
       "      <td>Ingeniero de Software</td>\n",
       "    </tr>\n",
       "    <tr>\n",
       "      <th>29</th>\n",
       "      <td>Diego Molina Mejía</td>\n",
       "      <td>1992-12-26</td>\n",
       "      <td>Cl. 89 # 46P-93 Este</td>\n",
       "      <td>eduardocastaneda@example.com</td>\n",
       "      <td>Infraestructura</td>\n",
       "      <td>Especialista en Redes</td>\n",
       "    </tr>\n",
       "  </tbody>\n",
       "</table>\n",
       "</div>"
      ]
     },
     "metadata": {
      "application/vnd.databricks.v1+output": {
       "addedWidgets": {},
       "arguments": {},
       "data": "<div>\n<style scoped>\n    .dataframe tbody tr th:only-of-type {\n        vertical-align: middle;\n    }\n\n    .dataframe tbody tr th {\n        vertical-align: top;\n    }\n\n    .dataframe thead th {\n        text-align: right;\n    }\n</style>\n<table border=\"1\" class=\"dataframe\">\n  <thead>\n    <tr style=\"text-align: right;\">\n      <th></th>\n      <th>Nombre</th>\n      <th>Edad</th>\n      <th>direccion</th>\n      <th>Correo</th>\n      <th>Departamento</th>\n      <th>Puesto</th>\n    </tr>\n  </thead>\n  <tbody>\n    <tr>\n      <th>0</th>\n      <td>Juliana Escobar</td>\n      <td>1996-12-19</td>\n      <td>Cl. 7L Este # 3-1 Este</td>\n      <td>garciajorge@example.net</td>\n      <td>Infraestructura</td>\n      <td>Administrador de Base de Datos</td>\n    </tr>\n    <tr>\n      <th>1</th>\n      <td>Carlos Jhon Salazar Burbano</td>\n      <td>1959-06-11</td>\n      <td>Cl. 37 # 2-65 Este</td>\n      <td>torresjorge@example.com</td>\n      <td>Investigación y Desarrollo</td>\n      <td>Analista de Negocios</td>\n    </tr>\n    <tr>\n      <th>2</th>\n      <td>Yeison Martínez Prada</td>\n      <td>1960-07-09</td>\n      <td>Cl. 199 # 8R-2</td>\n      <td>edgar56@example.org</td>\n      <td>Datos</td>\n      <td>Ingeniero de Datos</td>\n    </tr>\n    <tr>\n      <th>3</th>\n      <td>Luisa Gamboa</td>\n      <td>1993-06-27</td>\n      <td>Avenida carrera 4ª # 90-1</td>\n      <td>luciabarragan@example.net</td>\n      <td>Desarrollo de Software</td>\n      <td>Analista de Sistemas</td>\n    </tr>\n    <tr>\n      <th>4</th>\n      <td>Carlos Arturo Méndez Páez</td>\n      <td>2000-06-18</td>\n      <td>Diagonal 151E # 8-66 Este</td>\n      <td>jefferson11@example.net</td>\n      <td>Gestión de Proyectos</td>\n      <td>Gerente de TI</td>\n    </tr>\n    <tr>\n      <th>5</th>\n      <td>María Laura García López</td>\n      <td>1969-05-22</td>\n      <td>Calle 51 # 8-2 Este</td>\n      <td>suarezdaniel@example.com</td>\n      <td>Desarrollo de Software</td>\n      <td>Desarrollador de Software</td>\n    </tr>\n    <tr>\n      <th>6</th>\n      <td>Lina Marín</td>\n      <td>1959-02-16</td>\n      <td>Cr. 30 # 44-1 Este</td>\n      <td>hoyosluz@example.org</td>\n      <td>Datos</td>\n      <td>Científico de Datos</td>\n    </tr>\n    <tr>\n      <th>7</th>\n      <td>Mirian Elena Cárdenas</td>\n      <td>1995-11-17</td>\n      <td>Cr. 54 # 42-9 Este</td>\n      <td>maria99@example.net</td>\n      <td>Investigación y Desarrollo</td>\n      <td>Analista de Negocios</td>\n    </tr>\n    <tr>\n      <th>8</th>\n      <td>Martha Pabón Cárdenas</td>\n      <td>1982-08-07</td>\n      <td>Av. carrera 108 # 7-6 Sur</td>\n      <td>velezalexander@example.net</td>\n      <td>Gestión de Proyectos</td>\n      <td>Gerente de TI</td>\n    </tr>\n    <tr>\n      <th>9</th>\n      <td>María Jaramillo Arenas</td>\n      <td>1996-09-25</td>\n      <td>Calle 5ª # 49-2 Este</td>\n      <td>mcorrea@example.net</td>\n      <td>Infraestructura</td>\n      <td>Administrador de Base de Datos</td>\n    </tr>\n    <tr>\n      <th>10</th>\n      <td>Arturo Carlos Hernández</td>\n      <td>1999-04-27</td>\n      <td>Cr. 14 # 31G-1</td>\n      <td>djimenez@example.net</td>\n      <td>Infraestructura</td>\n      <td>Administrador de Base de Datos</td>\n    </tr>\n    <tr>\n      <th>11</th>\n      <td>Alberto Perea Correa</td>\n      <td>1997-11-26</td>\n      <td>Cr. 145 # 7-93</td>\n      <td>leonardobravo@example.com</td>\n      <td>Infraestructura</td>\n      <td>Administrador de Base de Datos</td>\n    </tr>\n    <tr>\n      <th>12</th>\n      <td>Luis Ariza Gutiérrez</td>\n      <td>1997-03-07</td>\n      <td>Carrera 34X # 8-86</td>\n      <td>thernandez@example.org</td>\n      <td>Soporte Técnico</td>\n      <td>Técnico de Soporte</td>\n    </tr>\n    <tr>\n      <th>13</th>\n      <td>Carolina Elena Pineda</td>\n      <td>1998-05-05</td>\n      <td>Transversal 173Y # 9-48 Sur</td>\n      <td>vasquezdavid@example.com</td>\n      <td>Desarrollo de Software</td>\n      <td>Desarrollador de Software</td>\n    </tr>\n    <tr>\n      <th>14</th>\n      <td>Eduardo Herrera Rodríguez</td>\n      <td>1999-07-03</td>\n      <td>Cr. 91 # 52-54</td>\n      <td>ardilaluis@example.com</td>\n      <td>Soporte Técnico</td>\n      <td>ingeniero de Telecomunicaciones</td>\n    </tr>\n    <tr>\n      <th>15</th>\n      <td>Lorena Flórez</td>\n      <td>1999-02-15</td>\n      <td>Carrera 67A # 61-1 Este</td>\n      <td>asanchez@example.org</td>\n      <td>Investigación y Desarrollo</td>\n      <td>Analista Bi</td>\n    </tr>\n    <tr>\n      <th>16</th>\n      <td>Alejandro Vega</td>\n      <td>1996-01-28</td>\n      <td>Calle 10 # 4-39</td>\n      <td>palaciossergio@example.net</td>\n      <td>Investigación y Desarrollo</td>\n      <td>Analista de Negocios</td>\n    </tr>\n    <tr>\n      <th>17</th>\n      <td>Fernando Ángel Gil</td>\n      <td>2001-11-03</td>\n      <td>Dg. 119 Sur # 9-9</td>\n      <td>gonzalezangel@example.net</td>\n      <td>Datos</td>\n      <td>Científico de Datos</td>\n    </tr>\n    <tr>\n      <th>18</th>\n      <td>Flor Lozano</td>\n      <td>1981-11-18</td>\n      <td>Cl. 40 # 8K-26 Este</td>\n      <td>silviavillamizar@example.com</td>\n      <td>Gestión de Proyectos</td>\n      <td>Gerente de Proyecto</td>\n    </tr>\n    <tr>\n      <th>19</th>\n      <td>David Andrés Duque Martínez</td>\n      <td>1959-05-14</td>\n      <td>Cl. 5D # 68U-5 Sur</td>\n      <td>aliciamendoza@example.net</td>\n      <td>Gestión de Proyectos</td>\n      <td>Gerente de TI</td>\n    </tr>\n    <tr>\n      <th>20</th>\n      <td>Elvis Carlos Ospino Muñoz</td>\n      <td>2000-10-18</td>\n      <td>Avenida Marcela Granados Álvarez # 10-54 Sur</td>\n      <td>sandra39@example.com</td>\n      <td>Desarrollo de Software</td>\n      <td>Diseñador UX/UI</td>\n    </tr>\n    <tr>\n      <th>21</th>\n      <td>Carolina Alejandra Vallejo</td>\n      <td>1966-10-18</td>\n      <td>Av. Cunday # 4-7</td>\n      <td>victoriacalderon@example.com</td>\n      <td>Infraestructura</td>\n      <td>Administrador de Base de Datos</td>\n    </tr>\n    <tr>\n      <th>22</th>\n      <td>Sonia Mónica Caicedo</td>\n      <td>1988-05-06</td>\n      <td>Tr. 39 # 70-39</td>\n      <td>vanegaslinda@example.org</td>\n      <td>Gestión de Proyectos</td>\n      <td>Gerente de TI</td>\n    </tr>\n    <tr>\n      <th>23</th>\n      <td>Fabio Mario Velasco Pérez</td>\n      <td>1964-07-24</td>\n      <td>Cl. 63 # 71-73 Sur</td>\n      <td>carlosmartinez@example.net</td>\n      <td>Gestión de Proyectos</td>\n      <td>Gerente de TI</td>\n    </tr>\n    <tr>\n      <th>24</th>\n      <td>Tatiana Arango</td>\n      <td>1977-02-05</td>\n      <td>Cl. 8A Bis # 6W-3</td>\n      <td>wjimenez@example.com</td>\n      <td>Datos</td>\n      <td>Analista de Datos</td>\n    </tr>\n    <tr>\n      <th>25</th>\n      <td>Miguel Leonardo Chaparro</td>\n      <td>1977-01-10</td>\n      <td>Av. carrera 8ª # 8-63</td>\n      <td>rodriguezmilena@example.net</td>\n      <td>Infraestructura</td>\n      <td>Administrador de Base de Datos</td>\n    </tr>\n    <tr>\n      <th>26</th>\n      <td>Andrés Jhon Cano</td>\n      <td>1978-08-16</td>\n      <td>Tr. 12 # 7-6 Este</td>\n      <td>esthermoreno@example.net</td>\n      <td>Datos</td>\n      <td>Científico de Datos</td>\n    </tr>\n    <tr>\n      <th>27</th>\n      <td>Andrea Carolina Monroy</td>\n      <td>1978-11-27</td>\n      <td>Cr. 46 Este # 6W-74 Este</td>\n      <td>lealdavid@example.net</td>\n      <td>Datos</td>\n      <td>Analista de Datos</td>\n    </tr>\n    <tr>\n      <th>28</th>\n      <td>Beatriz Marcela Olaya</td>\n      <td>1963-12-16</td>\n      <td>Carrera 55 # 1-5 Este</td>\n      <td>dcastillo@example.org</td>\n      <td>Desarrollo de Software</td>\n      <td>Ingeniero de Software</td>\n    </tr>\n    <tr>\n      <th>29</th>\n      <td>Diego Molina Mejía</td>\n      <td>1992-12-26</td>\n      <td>Cl. 89 # 46P-93 Este</td>\n      <td>eduardocastaneda@example.com</td>\n      <td>Infraestructura</td>\n      <td>Especialista en Redes</td>\n    </tr>\n  </tbody>\n</table>\n</div>",
       "datasetInfos": [],
       "metadata": {},
       "removedWidgets": [],
       "textData": null,
       "type": "htmlSandbox"
      }
     },
     "output_type": "display_data"
    }
   ],
   "source": [
    "df_empleados"
   ]
  },
  {
   "cell_type": "markdown",
   "metadata": {
    "application/vnd.databricks.v1+cell": {
     "cellMetadata": {},
     "inputWidgets": {},
     "nuid": "cf84d734-e137-4a46-bdf4-757226a4e827",
     "showTitle": false,
     "title": ""
    }
   },
   "source": [
    "## Desafío 2\n",
    "Guarde los datos simulados en archivos con formato CSV/Parquet.\n"
   ]
  },
  {
   "cell_type": "markdown",
   "metadata": {
    "application/vnd.databricks.v1+cell": {
     "cellMetadata": {},
     "inputWidgets": {},
     "nuid": "7ad46548-1102-4cdb-a6d6-6a6c517ddecb",
     "showTitle": false,
     "title": ""
    }
   },
   "source": [
    "Guardaremos los datos en CSV, ya que, tenemos tres bases de datos y la idea es poderlas relacionan como un modelo SQL en la nube de Azure. Primero los guadaré como archivos locales y luego los copio en la nube"
   ]
  },
  {
   "attachments": {},
   "cell_type": "markdown",
   "metadata": {
    "application/vnd.databricks.v1+cell": {
     "cellMetadata": {},
     "inputWidgets": {},
     "nuid": "0dade0c1-90b2-4ef4-a824-7616ada01779",
     "showTitle": false,
     "title": ""
    }
   },
   "source": [
    "## Desafío 3"
   ]
  },
  {
   "cell_type": "markdown",
   "metadata": {
    "application/vnd.databricks.v1+cell": {
     "cellMetadata": {},
     "inputWidgets": {},
     "nuid": "badd6a85-4654-4d03-848e-f1e0919787d4",
     "showTitle": false,
     "title": ""
    }
   },
   "source": [
    "Se importarán las bases a un Datalake (Azure Blob Storage) en la nube de Azure. En primera instancia instalamos la librería Azure-storage-blob dentro del Cluster de Databricks"
   ]
  },
  {
   "cell_type": "code",
   "execution_count": null,
   "metadata": {
    "application/vnd.databricks.v1+cell": {
     "cellMetadata": {
      "byteLimit": 2048000,
      "rowLimit": 10000
     },
     "inputWidgets": {},
     "nuid": "58b6fcb0-7067-476b-bf80-908ec7d1f232",
     "showTitle": false,
     "title": ""
    }
   },
   "outputs": [],
   "source": [
    "from azure.storage.blob import BlobServiceClient, BlobClient, generate_blob_sas, AccountSasPermissions, ResourceTypes\n",
    "\n",
    "# Se guardan los 3 DataFrames de Pandas como archivos CSV en el sistema de archivos local\n",
    "df_departamentos.to_csv(\"/dbfs/tmp/df_departamentos.csv\", index=False)\n",
    "df_empleados.to_csv(\"/dbfs/tmp/df_empleados.csv\", index=False)\n",
    "df_puestos.to_csv(\"/dbfs/tmp/df_puestos.csv\", index=False)\n",
    "\n",
    "# Se realiza la conexión con la cuenta de almacenamiento de Azure Blob Storage\n",
    "account_url = \"https://storageptg.blob.core.windows.net/\"\n",
    "token_sas = \"sp=racwd&st=2024-03-27T22:34:16Z&se=2024-03-28T06:34:16Z&spr=https&sv=2022-11-02&sr=c&sig=QNQ%2BYuVy8W1FaVdfK5xE2tg4Tpn%2Fe2wvVlDYBoBfj64%3D\"\n",
    "blob_service_client = BlobServiceClient(account_url, credential=token_sas)\n",
    "\n",
    "# Con este segmento de codigo puedo subir los archivos CSV al contenedor de Azure Blob Storage\n",
    "for dataframe_name in [\"df_departamentos\", \"df_empleados\", \"df_puestos\"]:\n",
    "    with open(f\"/dbfs/tmp/{dataframe_name}.csv\", \"rb\") as data:\n",
    "        blob_client = blob_service_client.get_blob_client(container=\"databricks\", blob=f\"{dataframe_name}.csv\")\n",
    "        blob_client.upload_blob(data)\n"
   ]
  }
 ],
 "metadata": {
  "application/vnd.databricks.v1+notebook": {
   "dashboards": [],
   "language": "python",
   "notebookMetadata": {
    "mostRecentlyExecutedCommandWithImplicitDF": {
     "commandId": 3037890386231127,
     "dataframes": [
      "_sqldf"
     ]
    },
    "pythonIndentUnit": 4
   },
   "notebookName": "Prueba Tecnica GMVM",
   "widgets": {}
  },
  "language_info": {
   "name": "python"
  }
 },
 "nbformat": 4,
 "nbformat_minor": 0
}
