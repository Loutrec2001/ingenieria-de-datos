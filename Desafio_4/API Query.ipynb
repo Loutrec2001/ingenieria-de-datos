{
    "metadata": {
        "kernelspec": {
            "name": "SQL",
            "display_name": "SQL",
            "language": "sql"
        },
        "language_info": {
            "name": "sql",
            "version": ""
        }
    },
    "nbformat_minor": 2,
    "nbformat": 4,
    "cells": [
        {
            "cell_type": "code",
            "source": [
                " -- Comenzaremos con la cantidad de cargos por departamento\n",
                "SELECT d.Departamento, COUNT(e.Id_Cargo) AS CantidadCargos\n",
                "FROM dbo.Empleados e\n",
                "INNER JOIN dbo.Departamentos d ON e.Id_Departamento = d.Id_Departamento\n",
                "GROUP BY d.Departamento;"
            ],
            "metadata": {
                "azdata_cell_guid": "8518f71c-a053-48dc-9ccf-bbaf44e6f5da",
                "language": "sql"
            },
            "outputs": [
                {
                    "output_type": "display_data",
                    "data": {
                        "text/html": "(6 rows affected)"
                    },
                    "metadata": {}
                },
                {
                    "output_type": "display_data",
                    "data": {
                        "text/html": "Total execution time: 00:00:00.194"
                    },
                    "metadata": {}
                },
                {
                    "output_type": "execute_result",
                    "metadata": {},
                    "execution_count": 1,
                    "data": {
                        "application/vnd.dataresource+json": {
                            "schema": {
                                "fields": [
                                    {
                                        "name": "Departamento"
                                    },
                                    {
                                        "name": "CantidadCargos"
                                    }
                                ]
                            },
                            "data": [
                                {
                                    "Departamento": "Datos",
                                    "CantidadCargos": "5"
                                },
                                {
                                    "Departamento": "Desarollo de software",
                                    "CantidadCargos": "5"
                                },
                                {
                                    "Departamento": "Gestión de Proyectos",
                                    "CantidadCargos": "3"
                                },
                                {
                                    "Departamento": "Infraestructura",
                                    "CantidadCargos": "6"
                                },
                                {
                                    "Departamento": "Investigación y desarrollo",
                                    "CantidadCargos": "6"
                                },
                                {
                                    "Departamento": "Soporte Técnico",
                                    "CantidadCargos": "5"
                                }
                            ]
                        },
                        "text/html": [
                            "<table>",
                            "<tr><th>Departamento</th><th>CantidadCargos</th></tr>",
                            "<tr><td>Datos</td><td>5</td></tr>",
                            "<tr><td>Desarollo de software</td><td>5</td></tr>",
                            "<tr><td>Gestión de Proyectos</td><td>3</td></tr>",
                            "<tr><td>Infraestructura</td><td>6</td></tr>",
                            "<tr><td>Investigación y desarrollo</td><td>6</td></tr>",
                            "<tr><td>Soporte Técnico</td><td>5</td></tr>",
                            "</table>"
                        ]
                    }
                }
            ],
            "execution_count": 1
        },
        {
            "cell_type": "code",
            "source": [
                "-- Ahora calculamos el Top 3 departamento con mas cargos\n",
                "SELECT TOP 3 d.Departamento, COUNT(e.Id_Cargo) AS CantidadCargos\n",
                "FROM dbo.Empleados e\n",
                "INNER JOIN dbo.Departamentos d ON e.Id_Departamento = d.Id_Departamento\n",
                "GROUP BY d.Departamento\n",
                "ORDER BY COUNT(e.Id_Cargo) DESC;\n",
                ""
            ],
            "metadata": {
                "language": "sql",
                "azdata_cell_guid": "cce736ec-4974-403f-a62b-f59814d2aa4c"
            },
            "outputs": [
                {
                    "output_type": "display_data",
                    "data": {
                        "text/html": "(3 rows affected)"
                    },
                    "metadata": {}
                },
                {
                    "output_type": "display_data",
                    "data": {
                        "text/html": "Total execution time: 00:00:00.083"
                    },
                    "metadata": {}
                },
                {
                    "output_type": "execute_result",
                    "metadata": {},
                    "execution_count": 2,
                    "data": {
                        "application/vnd.dataresource+json": {
                            "schema": {
                                "fields": [
                                    {
                                        "name": "Departamento"
                                    },
                                    {
                                        "name": "CantidadCargos"
                                    }
                                ]
                            },
                            "data": [
                                {
                                    "Departamento": "Infraestructura",
                                    "CantidadCargos": "6"
                                },
                                {
                                    "Departamento": "Investigación y desarrollo",
                                    "CantidadCargos": "6"
                                },
                                {
                                    "Departamento": "Desarollo de software",
                                    "CantidadCargos": "5"
                                }
                            ]
                        },
                        "text/html": [
                            "<table>",
                            "<tr><th>Departamento</th><th>CantidadCargos</th></tr>",
                            "<tr><td>Infraestructura</td><td>6</td></tr>",
                            "<tr><td>Investigación y desarrollo</td><td>6</td></tr>",
                            "<tr><td>Desarollo de software</td><td>5</td></tr>",
                            "</table>"
                        ]
                    }
                }
            ],
            "execution_count": 2
        },
        {
            "cell_type": "code",
            "source": [
                "-- Ahora calculamos la cantidad de empleados por cargo\n",
                "SELECT c.Cargo, COUNT(e.Nombre) AS CantidadEmpleados\n",
                "FROM dbo.Empleados e\n",
                "INNER JOIN dbo.Cargo c ON e.Id_Cargo = c.Id_Cargo\n",
                "GROUP BY c.Cargo;"
            ],
            "metadata": {
                "language": "sql",
                "azdata_cell_guid": "bc4482cc-07c5-49fa-a9ff-c360b5fb5818"
            },
            "outputs": [
                {
                    "output_type": "display_data",
                    "data": {
                        "text/html": "(15 rows affected)"
                    },
                    "metadata": {}
                },
                {
                    "output_type": "display_data",
                    "data": {
                        "text/html": "Total execution time: 00:00:00.079"
                    },
                    "metadata": {}
                },
                {
                    "output_type": "execute_result",
                    "metadata": {},
                    "execution_count": 3,
                    "data": {
                        "application/vnd.dataresource+json": {
                            "schema": {
                                "fields": [
                                    {
                                        "name": "Cargo"
                                    },
                                    {
                                        "name": "CantidadEmpleados"
                                    }
                                ]
                            },
                            "data": [
                                {
                                    "Cargo": "Administrador de Base de Datos",
                                    "CantidadEmpleados": "4"
                                },
                                {
                                    "Cargo": "Analista Bi",
                                    "CantidadEmpleados": "3"
                                },
                                {
                                    "Cargo": "Analista de Datos",
                                    "CantidadEmpleados": "3"
                                },
                                {
                                    "Cargo": "Analista de Negocios",
                                    "CantidadEmpleados": "3"
                                },
                                {
                                    "Cargo": "Científico de Datos",
                                    "CantidadEmpleados": "1"
                                },
                                {
                                    "Cargo": "Desarrollador de Software",
                                    "CantidadEmpleados": "2"
                                },
                                {
                                    "Cargo": "Diseñador UX/UI",
                                    "CantidadEmpleados": "1"
                                },
                                {
                                    "Cargo": "Especialista en Redes",
                                    "CantidadEmpleados": "1"
                                },
                                {
                                    "Cargo": "Especialista en Seguridad Informática",
                                    "CantidadEmpleados": "1"
                                },
                                {
                                    "Cargo": "Gerente de Proyecto",
                                    "CantidadEmpleados": "1"
                                },
                                {
                                    "Cargo": "Gerente de TI",
                                    "CantidadEmpleados": "2"
                                },
                                {
                                    "Cargo": "Ingeniero de Datos",
                                    "CantidadEmpleados": "1"
                                },
                                {
                                    "Cargo": "Ingeniero de Software",
                                    "CantidadEmpleados": "2"
                                },
                                {
                                    "Cargo": "Ingeniero de Telecomunicaciones",
                                    "CantidadEmpleados": "2"
                                },
                                {
                                    "Cargo": "Técnico de Soporte",
                                    "CantidadEmpleados": "3"
                                }
                            ]
                        },
                        "text/html": [
                            "<table>",
                            "<tr><th>Cargo</th><th>CantidadEmpleados</th></tr>",
                            "<tr><td>Administrador de Base de Datos</td><td>4</td></tr>",
                            "<tr><td>Analista Bi</td><td>3</td></tr>",
                            "<tr><td>Analista de Datos</td><td>3</td></tr>",
                            "<tr><td>Analista de Negocios</td><td>3</td></tr>",
                            "<tr><td>Científico de Datos</td><td>1</td></tr>",
                            "<tr><td>Desarrollador de Software</td><td>2</td></tr>",
                            "<tr><td>Diseñador UX/UI</td><td>1</td></tr>",
                            "<tr><td>Especialista en Redes</td><td>1</td></tr>",
                            "<tr><td>Especialista en Seguridad Informática</td><td>1</td></tr>",
                            "<tr><td>Gerente de Proyecto</td><td>1</td></tr>",
                            "<tr><td>Gerente de TI</td><td>2</td></tr>",
                            "<tr><td>Ingeniero de Datos</td><td>1</td></tr>",
                            "<tr><td>Ingeniero de Software</td><td>2</td></tr>",
                            "<tr><td>Ingeniero de Telecomunicaciones</td><td>2</td></tr>",
                            "<tr><td>Técnico de Soporte</td><td>3</td></tr>",
                            "</table>"
                        ]
                    }
                }
            ],
            "execution_count": 3
        },
        {
            "cell_type": "code",
            "source": [
                "-- Calculamos el top 3 de Cargos de la empresa es decir cantidad de empleados con ese cargo.\n",
                "WITH CargosConCantidad AS (\n",
                "    SELECT c.Cargo, COUNT(e.Nombre) AS CantidadEmpleados,\n",
                "           ROW_NUMBER() OVER (ORDER BY COUNT(e.Nombre) DESC) AS rn\n",
                "    FROM dbo.Empleados e\n",
                "    INNER JOIN dbo.Cargo c ON e.Id_Cargo = c.Id_Cargo\n",
                "    GROUP BY c.Cargo\n",
                ")\n",
                "SELECT Cargo, CantidadEmpleados\n",
                "FROM CargosConCantidad\n",
                "WHERE rn <= 3;\n",
                ""
            ],
            "metadata": {
                "language": "sql",
                "azdata_cell_guid": "862fd713-4dad-4396-8936-1f5e7327ca2c"
            },
            "outputs": [
                {
                    "output_type": "display_data",
                    "data": {
                        "text/html": "(3 rows affected)"
                    },
                    "metadata": {}
                },
                {
                    "output_type": "display_data",
                    "data": {
                        "text/html": "Total execution time: 00:00:00.089"
                    },
                    "metadata": {}
                },
                {
                    "output_type": "execute_result",
                    "metadata": {},
                    "execution_count": 4,
                    "data": {
                        "application/vnd.dataresource+json": {
                            "schema": {
                                "fields": [
                                    {
                                        "name": "Cargo"
                                    },
                                    {
                                        "name": "CantidadEmpleados"
                                    }
                                ]
                            },
                            "data": [
                                {
                                    "Cargo": "Administrador de Base de Datos",
                                    "CantidadEmpleados": "4"
                                },
                                {
                                    "Cargo": "Analista Bi",
                                    "CantidadEmpleados": "3"
                                },
                                {
                                    "Cargo": "Analista de Datos",
                                    "CantidadEmpleados": "3"
                                }
                            ]
                        },
                        "text/html": [
                            "<table>",
                            "<tr><th>Cargo</th><th>CantidadEmpleados</th></tr>",
                            "<tr><td>Administrador de Base de Datos</td><td>4</td></tr>",
                            "<tr><td>Analista Bi</td><td>3</td></tr>",
                            "<tr><td>Analista de Datos</td><td>3</td></tr>",
                            "</table>"
                        ]
                    }
                }
            ],
            "execution_count": 4
        },
        {
            "cell_type": "code",
            "source": [
                "-- Ahora podemos calcular el promedio de salario por departamento\n",
                "SELECT d.Departamento, CAST(AVG(c.Salario) AS INT) AS PromedioSalario\n",
                "FROM dbo.Empleados e\n",
                "INNER JOIN dbo.Departamentos d ON e.Id_Departamento = d.Id_Departamento\n",
                "INNER JOIN dbo.Cargo c ON e.Id_Cargo = c.Id_Cargo\n",
                "GROUP BY d.Departamento;"
            ],
            "metadata": {
                "language": "sql",
                "azdata_cell_guid": "63a24af5-5900-46b7-bd5c-da79a7cec571"
            },
            "outputs": [
                {
                    "output_type": "display_data",
                    "data": {
                        "text/html": "(6 rows affected)"
                    },
                    "metadata": {}
                },
                {
                    "output_type": "display_data",
                    "data": {
                        "text/html": "Total execution time: 00:00:00.077"
                    },
                    "metadata": {}
                },
                {
                    "output_type": "execute_result",
                    "metadata": {},
                    "execution_count": 5,
                    "data": {
                        "application/vnd.dataresource+json": {
                            "schema": {
                                "fields": [
                                    {
                                        "name": "Departamento"
                                    },
                                    {
                                        "name": "PromedioSalario"
                                    }
                                ]
                            },
                            "data": [
                                {
                                    "Departamento": "Datos",
                                    "PromedioSalario": "7100000"
                                },
                                {
                                    "Departamento": "Desarollo de software",
                                    "PromedioSalario": "7400000"
                                },
                                {
                                    "Departamento": "Gestión de Proyectos",
                                    "PromedioSalario": "9333333"
                                },
                                {
                                    "Departamento": "Infraestructura",
                                    "PromedioSalario": "7916666"
                                },
                                {
                                    "Departamento": "Investigación y desarrollo",
                                    "PromedioSalario": "7250000"
                                },
                                {
                                    "Departamento": "Soporte Técnico",
                                    "PromedioSalario": "6800000"
                                }
                            ]
                        },
                        "text/html": [
                            "<table>",
                            "<tr><th>Departamento</th><th>PromedioSalario</th></tr>",
                            "<tr><td>Datos</td><td>7100000</td></tr>",
                            "<tr><td>Desarollo de software</td><td>7400000</td></tr>",
                            "<tr><td>Gestión de Proyectos</td><td>9333333</td></tr>",
                            "<tr><td>Infraestructura</td><td>7916666</td></tr>",
                            "<tr><td>Investigación y desarrollo</td><td>7250000</td></tr>",
                            "<tr><td>Soporte Técnico</td><td>6800000</td></tr>",
                            "</table>"
                        ]
                    }
                }
            ],
            "execution_count": 5
        },
        {
            "cell_type": "code",
            "source": [
                "-- Ahora calculamos el TOP 3 salarios por departamento\n",
                "WITH SalariosPorDepartamento AS (\n",
                "    SELECT d.Departamento, MAX(c.Salario) AS Salario\n",
                "    FROM dbo.Empleados e\n",
                "    INNER JOIN dbo.Departamentos d ON e.Id_Departamento = d.Id_Departamento\n",
                "    INNER JOIN dbo.Cargo c ON e.Id_Cargo = c.Id_Cargo\n",
                "    GROUP BY d.Departamento\n",
                ")\n",
                "SELECT Departamento, Salario\n",
                "FROM (\n",
                "    SELECT Departamento, Salario,\n",
                "           ROW_NUMBER() OVER (ORDER BY Salario DESC) AS rn\n",
                "    FROM SalariosPorDepartamento\n",
                ") AS SalariosNumerados\n",
                "WHERE rn <= 3;"
            ],
            "metadata": {
                "language": "sql",
                "azdata_cell_guid": "8225ad51-5cc7-47a3-8de0-9ccef454a43b"
            },
            "outputs": [
                {
                    "output_type": "display_data",
                    "data": {
                        "text/html": "(3 rows affected)"
                    },
                    "metadata": {}
                },
                {
                    "output_type": "display_data",
                    "data": {
                        "text/html": "Total execution time: 00:00:00.097"
                    },
                    "metadata": {}
                },
                {
                    "output_type": "execute_result",
                    "metadata": {},
                    "execution_count": 6,
                    "data": {
                        "application/vnd.dataresource+json": {
                            "schema": {
                                "fields": [
                                    {
                                        "name": "Departamento"
                                    },
                                    {
                                        "name": "Salario"
                                    }
                                ]
                            },
                            "data": [
                                {
                                    "Departamento": "Gestión de Proyectos",
                                    "Salario": "9500000.00"
                                },
                                {
                                    "Departamento": "Datos",
                                    "Salario": "8500000.00"
                                },
                                {
                                    "Departamento": "Infraestructura",
                                    "Salario": "8000000.00"
                                }
                            ]
                        },
                        "text/html": [
                            "<table>",
                            "<tr><th>Departamento</th><th>Salario</th></tr>",
                            "<tr><td>Gestión de Proyectos</td><td>9500000.00</td></tr>",
                            "<tr><td>Datos</td><td>8500000.00</td></tr>",
                            "<tr><td>Infraestructura</td><td>8000000.00</td></tr>",
                            "</table>"
                        ]
                    }
                }
            ],
            "execution_count": 6
        }
    ]
}