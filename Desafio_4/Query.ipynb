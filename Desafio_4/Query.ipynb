{
    "metadata": {
        "kernelspec": {
            "name": "SQL",
            "display_name": "SQL",
            "language": "sql"
        },
        "language_info": {
            "name": "sql",
            "version": ""
        }
    },
    "nbformat_minor": 2,
    "nbformat": 4,
    "cells": [
        {
            "cell_type": "markdown",
            "source": [
                "## Desafío 4\n",
                "\n",
                "<span lang=\"ES\" style=\"font-size: 10.5pt; font-family: Arial, sans-serif;\">Dependiendo si escoge una base de datos SQL/NoSQL, un Datawarehouse, o un Datalake, entonces desarrolle una view/query/report a partir del modelo de datos.</span>\n",
                "\n",
                "<span role=\"presentation\" dir=\"ltr\" style=\"padding: 0px; margin: 0px; color: rgba(0, 0, 0, 0); position: absolute; white-space: pre; cursor: text; transform-origin: 0% 0%; caret-color: rgba(0, 0, 0, 0); text-size-adjust: auto; left: 164.544px; top: 1330.55px; font-size: 13.9115px; font-family: sans-serif; transform: scaleX(0.881514);\">Dependiendo si escoge una base de datos SQL/NoSQL, un Datawarehouse</span><span role=\"presentation\" dir=\"ltr\" style=\"padding: 0px; margin: 0px; color: rgba(0, 0, 0, 0); position: absolute; white-space: pre; cursor: text; transform-origin: 0% 0%; caret-color: rgba(0, 0, 0, 0); text-size-adjust: auto; left: 581.196px; top: 1330.55px; font-size: 13.9115px; font-family: sans-serif; transform: scaleX(0.895836);\">, o un Datalake, entonces d</span><span role=\"presentation\" dir=\"ltr\" style=\"padding: 0px; margin: 0px; color: rgba(0, 0, 0, 0); position: absolute; white-space: pre; cursor: text; transform-origin: 0% 0%; caret-color: rgba(0, 0, 0, 0); text-size-adjust: auto; left: 733.958px; top: 1330.55px; font-size: 13.9115px; font-family: sans-serif; transform: scaleX(0.908041);\">esarrolle una</span> <span role=\"presentation\" dir=\"ltr\" style=\"padding: 0px; margin: 0px; color: rgba(0, 0, 0, 0); position: absolute; white-space: pre; cursor: text; transform-origin: 0% 0%; caret-color: rgba(0, 0, 0, 0); text-size-adjust: auto; left: 810.623px; top: 1330.55px; font-size: 13.9115px; font-family: sans-serif; transform: scaleX(0.988306);\">view/</span><span role=\"presentation\" dir=\"ltr\" style=\"padding: 0px; margin: 0px; color: rgba(0, 0, 0, 0); position: absolute; white-space: pre; cursor: text; transform-origin: 0% 0%; caret-color: rgba(0, 0, 0, 0); text-size-adjust: auto; left: 842.226px; top: 1330.55px; font-size: 13.9115px; font-family: sans-serif; transform: scaleX(0.973194);\">query/</span><span role=\"presentation\" dir=\"ltr\" style=\"padding: 0px; margin: 0px; color: rgba(0, 0, 0, 0); position: absolute; white-space: pre; cursor: text; transform-origin: 0% 0%; caret-color: rgba(0, 0, 0, 0); text-size-adjust: auto; left: 880.181px; top: 1330.55px; font-size: 13.9115px; font-family: sans-serif; transform: scaleX(0.974545);\">report</span> <span role=\"presentation\" dir=\"ltr\" style=\"padding: 0px; margin: 0px; color: rgba(0, 0, 0, 0); position: absolute; white-space: pre; cursor: text; transform-origin: 0% 0%; caret-color: rgba(0, 0, 0, 0); text-size-adjust: auto; left: 919.042px; top: 1330.55px; font-size: 13.9115px; font-family: sans-serif;\">a</span>"
            ],
            "metadata": {
                "azdata_cell_guid": "da090c8d-81a5-46cc-a183-eed34e0e2dec"
            },
            "attachments": {}
        },
        {
            "cell_type": "code",
            "source": [
                "-- Comenzaremos con la cantidad de cargos por departamento\n",
                "SELECT d.Departamento, COUNT(e.Id_Cargo) AS CantidadCargos\n",
                "FROM dbo.Empleados e\n",
                "INNER JOIN dbo.Departamentos d ON e.Id_Departamento = d.Id_Departamento\n",
                "GROUP BY d.Departamento;"
            ],
            "metadata": {
                "azdata_cell_guid": "febbb9e9-665b-4939-b00a-24ac30abc69e",
                "language": "sql",
                "tags": []
            },
            "outputs": [
                {
                    "output_type": "display_data",
                    "data": {
                        "text/html": "(6 rows affected)"
                    },
                    "metadata": {}
                },
                {
                    "output_type": "display_data",
                    "data": {
                        "text/html": "Total execution time: 00:00:00.090"
                    },
                    "metadata": {}
                },
                {
                    "output_type": "execute_result",
                    "metadata": {},
                    "execution_count": 30,
                    "data": {
                        "application/vnd.dataresource+json": {
                            "schema": {
                                "fields": [
                                    {
                                        "name": "Departamento"
                                    },
                                    {
                                        "name": "CantidadCargos"
                                    }
                                ]
                            },
                            "data": [
                                {
                                    "Departamento": "Datos",
                                    "CantidadCargos": "5"
                                },
                                {
                                    "Departamento": "Desarollo de software",
                                    "CantidadCargos": "5"
                                },
                                {
                                    "Departamento": "Gestión de Proyectos",
                                    "CantidadCargos": "3"
                                },
                                {
                                    "Departamento": "Infraestructura",
                                    "CantidadCargos": "6"
                                },
                                {
                                    "Departamento": "Investigación y desarrollo",
                                    "CantidadCargos": "6"
                                },
                                {
                                    "Departamento": "Soporte Técnico",
                                    "CantidadCargos": "5"
                                }
                            ]
                        },
                        "text/html": [
                            "<table>",
                            "<tr><th>Departamento</th><th>CantidadCargos</th></tr>",
                            "<tr><td>Datos</td><td>5</td></tr>",
                            "<tr><td>Desarollo de software</td><td>5</td></tr>",
                            "<tr><td>Gestión de Proyectos</td><td>3</td></tr>",
                            "<tr><td>Infraestructura</td><td>6</td></tr>",
                            "<tr><td>Investigación y desarrollo</td><td>6</td></tr>",
                            "<tr><td>Soporte Técnico</td><td>5</td></tr>",
                            "</table>"
                        ]
                    }
                }
            ],
            "execution_count": 30
        },
        {
            "cell_type": "code",
            "source": [
                "-- Ahora calculamos el Top 3 departamento con mas cargos\n",
                "SELECT TOP 3 d.Departamento, COUNT(e.Id_Cargo) AS CantidadCargos\n",
                "FROM dbo.Empleados e\n",
                "INNER JOIN dbo.Departamentos d ON e.Id_Departamento = d.Id_Departamento\n",
                "GROUP BY d.Departamento\n",
                "ORDER BY COUNT(e.Id_Cargo) DESC;\n",
                "\n",
                ""
            ],
            "metadata": {
                "language": "sql",
                "azdata_cell_guid": "e099603d-2bee-41ad-ad03-1c6afdedaee8"
            },
            "outputs": [
                {
                    "output_type": "display_data",
                    "data": {
                        "text/html": "(3 rows affected)"
                    },
                    "metadata": {}
                },
                {
                    "output_type": "display_data",
                    "data": {
                        "text/html": "Total execution time: 00:00:00.124"
                    },
                    "metadata": {}
                },
                {
                    "output_type": "execute_result",
                    "metadata": {},
                    "execution_count": 69,
                    "data": {
                        "application/vnd.dataresource+json": {
                            "schema": {
                                "fields": [
                                    {
                                        "name": "Departamento"
                                    },
                                    {
                                        "name": "CantidadCargos"
                                    }
                                ]
                            },
                            "data": [
                                {
                                    "Departamento": "Infraestructura",
                                    "CantidadCargos": "6"
                                },
                                {
                                    "Departamento": "Investigación y desarrollo",
                                    "CantidadCargos": "6"
                                },
                                {
                                    "Departamento": "Desarollo de software",
                                    "CantidadCargos": "5"
                                }
                            ]
                        },
                        "text/html": [
                            "<table>",
                            "<tr><th>Departamento</th><th>CantidadCargos</th></tr>",
                            "<tr><td>Infraestructura</td><td>6</td></tr>",
                            "<tr><td>Investigación y desarrollo</td><td>6</td></tr>",
                            "<tr><td>Desarollo de software</td><td>5</td></tr>",
                            "</table>"
                        ]
                    }
                }
            ],
            "execution_count": 69
        },
        {
            "cell_type": "code",
            "source": [
                "-- Ahora calculamos la cantidad de empleados por cargo\n",
                "SELECT c.Cargo, COUNT(e.Nombre) AS CantidadEmpleados\n",
                "FROM dbo.Empleados e\n",
                "INNER JOIN dbo.Cargo c ON e.Id_Cargo = c.Id_Cargo\n",
                "GROUP BY c.Cargo;\n",
                ""
            ],
            "metadata": {
                "language": "sql",
                "azdata_cell_guid": "76d6c35a-787e-4a35-bdd5-3063a4068aba"
            },
            "outputs": [
                {
                    "output_type": "display_data",
                    "data": {
                        "text/html": "(15 rows affected)"
                    },
                    "metadata": {}
                },
                {
                    "output_type": "display_data",
                    "data": {
                        "text/html": "Total execution time: 00:00:00.111"
                    },
                    "metadata": {}
                },
                {
                    "output_type": "execute_result",
                    "metadata": {},
                    "execution_count": 36,
                    "data": {
                        "application/vnd.dataresource+json": {
                            "schema": {
                                "fields": [
                                    {
                                        "name": "Cargo"
                                    },
                                    {
                                        "name": "CantidadEmpleados"
                                    }
                                ]
                            },
                            "data": [
                                {
                                    "Cargo": "Administrador de Base de Datos",
                                    "CantidadEmpleados": "4"
                                },
                                {
                                    "Cargo": "Analista Bi",
                                    "CantidadEmpleados": "3"
                                },
                                {
                                    "Cargo": "Analista de Datos",
                                    "CantidadEmpleados": "3"
                                },
                                {
                                    "Cargo": "Analista de Negocios",
                                    "CantidadEmpleados": "3"
                                },
                                {
                                    "Cargo": "Científico de Datos",
                                    "CantidadEmpleados": "1"
                                },
                                {
                                    "Cargo": "Desarrollador de Software",
                                    "CantidadEmpleados": "2"
                                },
                                {
                                    "Cargo": "Diseñador UX/UI",
                                    "CantidadEmpleados": "1"
                                },
                                {
                                    "Cargo": "Especialista en Redes",
                                    "CantidadEmpleados": "1"
                                },
                                {
                                    "Cargo": "Especialista en Seguridad Informática",
                                    "CantidadEmpleados": "1"
                                },
                                {
                                    "Cargo": "Gerente de Proyecto",
                                    "CantidadEmpleados": "1"
                                },
                                {
                                    "Cargo": "Gerente de TI",
                                    "CantidadEmpleados": "2"
                                },
                                {
                                    "Cargo": "Ingeniero de Datos",
                                    "CantidadEmpleados": "1"
                                },
                                {
                                    "Cargo": "Ingeniero de Software",
                                    "CantidadEmpleados": "2"
                                },
                                {
                                    "Cargo": "Ingeniero de Telecomunicaciones",
                                    "CantidadEmpleados": "2"
                                },
                                {
                                    "Cargo": "Técnico de Soporte",
                                    "CantidadEmpleados": "3"
                                }
                            ]
                        },
                        "text/html": [
                            "<table>",
                            "<tr><th>Cargo</th><th>CantidadEmpleados</th></tr>",
                            "<tr><td>Administrador de Base de Datos</td><td>4</td></tr>",
                            "<tr><td>Analista Bi</td><td>3</td></tr>",
                            "<tr><td>Analista de Datos</td><td>3</td></tr>",
                            "<tr><td>Analista de Negocios</td><td>3</td></tr>",
                            "<tr><td>Científico de Datos</td><td>1</td></tr>",
                            "<tr><td>Desarrollador de Software</td><td>2</td></tr>",
                            "<tr><td>Diseñador UX/UI</td><td>1</td></tr>",
                            "<tr><td>Especialista en Redes</td><td>1</td></tr>",
                            "<tr><td>Especialista en Seguridad Informática</td><td>1</td></tr>",
                            "<tr><td>Gerente de Proyecto</td><td>1</td></tr>",
                            "<tr><td>Gerente de TI</td><td>2</td></tr>",
                            "<tr><td>Ingeniero de Datos</td><td>1</td></tr>",
                            "<tr><td>Ingeniero de Software</td><td>2</td></tr>",
                            "<tr><td>Ingeniero de Telecomunicaciones</td><td>2</td></tr>",
                            "<tr><td>Técnico de Soporte</td><td>3</td></tr>",
                            "</table>"
                        ]
                    }
                }
            ],
            "execution_count": 36
        },
        {
            "cell_type": "code",
            "source": [
                "-- Calculamos el top 3 de Cargos de la empresa es decir cantidad de empleados con ese cargo.\n",
                "WITH CargosConCantidad AS (\n",
                "    SELECT c.Cargo, COUNT(e.Nombre) AS CantidadEmpleados,\n",
                "           ROW_NUMBER() OVER (ORDER BY COUNT(e.Nombre) DESC) AS rn\n",
                "    FROM dbo.Empleados e\n",
                "    INNER JOIN dbo.Cargo c ON e.Id_Cargo = c.Id_Cargo\n",
                "    GROUP BY c.Cargo\n",
                ")\n",
                "SELECT Cargo, CantidadEmpleados\n",
                "FROM CargosConCantidad\n",
                "WHERE rn <= 3;\n",
                ""
            ],
            "metadata": {
                "language": "sql",
                "azdata_cell_guid": "eb065921-85e8-45e7-8a07-618925713cbb"
            },
            "outputs": [
                {
                    "output_type": "display_data",
                    "data": {
                        "text/html": "(3 rows affected)"
                    },
                    "metadata": {}
                },
                {
                    "output_type": "display_data",
                    "data": {
                        "text/html": "Total execution time: 00:00:00.083"
                    },
                    "metadata": {}
                },
                {
                    "output_type": "execute_result",
                    "metadata": {},
                    "execution_count": 39,
                    "data": {
                        "application/vnd.dataresource+json": {
                            "schema": {
                                "fields": [
                                    {
                                        "name": "Cargo"
                                    },
                                    {
                                        "name": "CantidadEmpleados"
                                    }
                                ]
                            },
                            "data": [
                                {
                                    "Cargo": "Administrador de Base de Datos",
                                    "CantidadEmpleados": "4"
                                },
                                {
                                    "Cargo": "Analista Bi",
                                    "CantidadEmpleados": "3"
                                },
                                {
                                    "Cargo": "Analista de Datos",
                                    "CantidadEmpleados": "3"
                                }
                            ]
                        },
                        "text/html": [
                            "<table>",
                            "<tr><th>Cargo</th><th>CantidadEmpleados</th></tr>",
                            "<tr><td>Administrador de Base de Datos</td><td>4</td></tr>",
                            "<tr><td>Analista Bi</td><td>3</td></tr>",
                            "<tr><td>Analista de Datos</td><td>3</td></tr>",
                            "</table>"
                        ]
                    }
                }
            ],
            "execution_count": 39
        },
        {
            "cell_type": "code",
            "source": [
                "-- Vamos a agregarle los salarios a cada uno de los cargos para realizar unas mejores consultas\n",
                "\n",
                "\n",
                "ALTER TABLE dbo.Cargo\n",
                "ADD Salario DECIMAL(18, 2);  \n",
                "\n",
                "UPDATE dbo.Cargo\n",
                "SET Salario = \n",
                "    CASE \n",
                "        WHEN Cargo = 'Administrador de Base de Datos' THEN 8000000\n",
                "        WHEN Cargo = 'Analista BI' THEN 7000000\n",
                "        WHEN Cargo = 'Analista de Datos' THEN 6500000\n",
                "        WHEN Cargo = 'Analista de Negocios' THEN 7500000\n",
                "        WHEN Cargo = 'Científico de Datos' THEN 8500000\n",
                "        WHEN Cargo = 'Desarrollador de Software' THEN 7500000\n",
                "        WHEN Cargo = 'Diseñador UX/UI' THEN 7000000\n",
                "        WHEN Cargo = 'Especialista en Redes' THEN 7500000\n",
                "        WHEN Cargo = 'Especialista en Seguridad Informática' THEN 8000000\n",
                "        WHEN Cargo = 'Gerente de Proyecto' THEN 9000000\n",
                "        WHEN Cargo = 'Gerente de TI' THEN 9500000\n",
                "        WHEN Cargo = 'Ingeniero de Datos' THEN 7500000\n",
                "        WHEN Cargo = 'Ingeniero de Software' THEN 7500000\n",
                "        WHEN Cargo = 'Ingeniero de Telecomunicaciones' THEN 8000000\n",
                "        WHEN Cargo = 'Técnico de Soporte' THEN 6000000\n",
                "        WHEN Cargo = 'TI Recruiter' THEN 5500000\n",
                "        WHEN Cargo =  'Analista de Sistemas' THEN 5800000\n",
                "        WHEN Cargo =  'Coordinador de Recursos Humanos' THEN 6500000\n",
                "        ELSE 0\n",
                "    END;\n",
                "\n",
                ""
            ],
            "metadata": {
                "language": "sql",
                "azdata_cell_guid": "97f89e03-21fe-446a-97db-7a69790f0426"
            },
            "outputs": [
                {
                    "output_type": "display_data",
                    "data": {
                        "text/html": "(18 rows affected)"
                    },
                    "metadata": {}
                },
                {
                    "output_type": "display_data",
                    "data": {
                        "text/html": "Total execution time: 00:00:00.105"
                    },
                    "metadata": {}
                }
            ],
            "execution_count": 53
        },
        {
            "cell_type": "code",
            "source": [
                "-- Ahora podemos calcular el promedio de salario por departamento\n",
                "SELECT d.Departamento, CAST(AVG(c.Salario) AS INT) AS PromedioSalario\n",
                "FROM dbo.Empleados e\n",
                "INNER JOIN dbo.Departamentos d ON e.Id_Departamento = d.Id_Departamento\n",
                "INNER JOIN dbo.Cargo c ON e.Id_Cargo = c.Id_Cargo\n",
                "GROUP BY d.Departamento;\n",
                ""
            ],
            "metadata": {
                "language": "sql",
                "azdata_cell_guid": "f15b02da-fc20-41ad-a532-8d95a0d2ae75",
                "tags": []
            },
            "outputs": [
                {
                    "output_type": "display_data",
                    "data": {
                        "text/html": "(6 rows affected)"
                    },
                    "metadata": {}
                },
                {
                    "output_type": "display_data",
                    "data": {
                        "text/html": "Total execution time: 00:00:00.101"
                    },
                    "metadata": {}
                },
                {
                    "output_type": "execute_result",
                    "metadata": {},
                    "execution_count": 64,
                    "data": {
                        "application/vnd.dataresource+json": {
                            "schema": {
                                "fields": [
                                    {
                                        "name": "Departamento"
                                    },
                                    {
                                        "name": "PromedioSalario"
                                    }
                                ]
                            },
                            "data": [
                                {
                                    "Departamento": "Datos",
                                    "PromedioSalario": "7100000"
                                },
                                {
                                    "Departamento": "Desarollo de software",
                                    "PromedioSalario": "7400000"
                                },
                                {
                                    "Departamento": "Gestión de Proyectos",
                                    "PromedioSalario": "9333333"
                                },
                                {
                                    "Departamento": "Infraestructura",
                                    "PromedioSalario": "7916666"
                                },
                                {
                                    "Departamento": "Investigación y desarrollo",
                                    "PromedioSalario": "7250000"
                                },
                                {
                                    "Departamento": "Soporte Técnico",
                                    "PromedioSalario": "6800000"
                                }
                            ]
                        },
                        "text/html": [
                            "<table>",
                            "<tr><th>Departamento</th><th>PromedioSalario</th></tr>",
                            "<tr><td>Datos</td><td>7100000</td></tr>",
                            "<tr><td>Desarollo de software</td><td>7400000</td></tr>",
                            "<tr><td>Gestión de Proyectos</td><td>9333333</td></tr>",
                            "<tr><td>Infraestructura</td><td>7916666</td></tr>",
                            "<tr><td>Investigación y desarrollo</td><td>7250000</td></tr>",
                            "<tr><td>Soporte Técnico</td><td>6800000</td></tr>",
                            "</table>"
                        ]
                    }
                }
            ],
            "execution_count": 64
        },
        {
            "cell_type": "code",
            "source": [
                "-- Ahora calculamos el TOP 3 salarios por departamento\n",
                "WITH SalariosPorDepartamento AS (\n",
                "    SELECT d.Departamento, MAX(c.Salario) AS Salario\n",
                "    FROM dbo.Empleados e\n",
                "    INNER JOIN dbo.Departamentos d ON e.Id_Departamento = d.Id_Departamento\n",
                "    INNER JOIN dbo.Cargo c ON e.Id_Cargo = c.Id_Cargo\n",
                "    GROUP BY d.Departamento\n",
                ")\n",
                "SELECT Departamento, Salario\n",
                "FROM (\n",
                "    SELECT Departamento, Salario,\n",
                "           ROW_NUMBER() OVER (ORDER BY Salario DESC) AS rn\n",
                "    FROM SalariosPorDepartamento\n",
                ") AS SalariosNumerados\n",
                "WHERE rn <= 3;\n",
                "\n",
                "\n",
                ""
            ],
            "metadata": {
                "language": "sql",
                "azdata_cell_guid": "ec31c8f2-a969-43a2-9687-9f96a3eac103"
            },
            "outputs": [
                {
                    "output_type": "display_data",
                    "data": {
                        "text/html": "(3 rows affected)"
                    },
                    "metadata": {}
                },
                {
                    "output_type": "display_data",
                    "data": {
                        "text/html": "Total execution time: 00:00:00.079"
                    },
                    "metadata": {}
                },
                {
                    "output_type": "execute_result",
                    "metadata": {},
                    "execution_count": 68,
                    "data": {
                        "application/vnd.dataresource+json": {
                            "schema": {
                                "fields": [
                                    {
                                        "name": "Departamento"
                                    },
                                    {
                                        "name": "Salario"
                                    }
                                ]
                            },
                            "data": [
                                {
                                    "Departamento": "Gestión de Proyectos",
                                    "Salario": "9500000.00"
                                },
                                {
                                    "Departamento": "Datos",
                                    "Salario": "8500000.00"
                                },
                                {
                                    "Departamento": "Infraestructura",
                                    "Salario": "8000000.00"
                                }
                            ]
                        },
                        "text/html": [
                            "<table>",
                            "<tr><th>Departamento</th><th>Salario</th></tr>",
                            "<tr><td>Gestión de Proyectos</td><td>9500000.00</td></tr>",
                            "<tr><td>Datos</td><td>8500000.00</td></tr>",
                            "<tr><td>Infraestructura</td><td>8000000.00</td></tr>",
                            "</table>"
                        ]
                    }
                }
            ],
            "execution_count": 68
        }
    ]
}